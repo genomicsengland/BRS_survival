{
 "cells": [
  {
   "cell_type": "markdown",
   "metadata": {},
   "source": [
    "### Plot survival curves for responds/not responds"
   ]
  },
  {
   "cell_type": "code",
   "execution_count": null,
   "metadata": {},
   "outputs": [],
   "source": [
    "# I have a list of participants\n",
    "import pandas as pd\n",
    "data = pd.read_csv('ovarian_parpis_response_wcutoff.csv')"
   ]
  },
  {
   "cell_type": "code",
   "execution_count": null,
   "metadata": {},
   "outputs": [],
   "source": [
    "data"
   ]
  },
  {
   "cell_type": "code",
   "execution_count": null,
   "metadata": {},
   "outputs": [],
   "source": [
    "data[['participant_id','tumour_sample_platekey','germline_sample_platekey']]"
   ]
  },
  {
   "cell_type": "code",
   "execution_count": null,
   "metadata": {},
   "outputs": [],
   "source": [
    "%run /home/sagemaker-user/genomics-gel/experimental/2024_11_27_end2end_gel_cohorts/s3_helper.py\n",
    "rdl_s3_path = \"s3://676167504555-gel-structured-data-prod/RESEARCH_ENVIRONMENT_1/RR18/100K_GEL_Cancer_Analysis/2022/10/13/100K_GEL_Cancer_Analysis/data.tsv\"\n",
    "ca = read_tsv_from_rdl(rdl_s3_path)"
   ]
  },
  {
   "cell_type": "code",
   "execution_count": null,
   "metadata": {},
   "outputs": [],
   "source": [
    "# rdl = get_rdl_catalogue()"
   ]
  },
  {
   "cell_type": "code",
   "execution_count": null,
   "metadata": {},
   "outputs": [],
   "source": [
    "# rdl[(rdl['Key'].str.contains('ONS')) & (rdl['Key'].str.contains('RR19'))]['Key'].tolist()"
   ]
  },
  {
   "cell_type": "code",
   "execution_count": null,
   "metadata": {},
   "outputs": [],
   "source": [
    "# hes_tables=[\n",
    "# \t\t\t('RESEARCH_ENVIRONMENT_1/RR19/100K_NHSD_HES_APC/2024/03/03/100K_NHSD_HES_APC/data.tsv','epistart'),\n",
    "# \t\t\t('RESEARCH_ENVIRONMENT_1/RR19/100K_NHSD_HES_AE/2023/12/11/100K_NHSD_HES_AE/data.tsv','arrivaldate'), \n",
    "# \t\t\t('RESEARCH_ENVIRONMENT_1/RR19/100K_NHSD_HES_OP/2024/03/03/100K_NHSD_HES_OP/data.tsv','apptdate'), \n",
    "# \t\t\t('RESEARCH_ENVIRONMENT_1/RR19/100K_NHSD_HES_CC/2024/03/03/100K_NHSD_HES_CC/data.tsv','ccdisdate')\n",
    "# \t\t\t]"
   ]
  },
  {
   "cell_type": "code",
   "execution_count": null,
   "metadata": {},
   "outputs": [],
   "source": [
    "# h = read_tsv_from_rdl(hes_tables[0][0])"
   ]
  },
  {
   "cell_type": "code",
   "execution_count": null,
   "metadata": {},
   "outputs": [],
   "source": [
    "# h = read_tsv_from_rdl(hes_tables[0][0])[hes_tables[0][1]]"
   ]
  },
  {
   "cell_type": "code",
   "execution_count": null,
   "metadata": {},
   "outputs": [],
   "source": [
    "# d = 'RESEARCH_ENVIRONMENT_1/RR19/100K_GEL_Cancer_Tumour/2024/06/12/100K_GEL_Cancer_Tumour/data.tsv'\n",
    "# data = read_tsv_from_rdl(d)\n",
    "# data[['participant_id', 'diagnosis_date']]"
   ]
  },
  {
   "cell_type": "code",
   "execution_count": null,
   "metadata": {},
   "outputs": [],
   "source": [
    "data.columns"
   ]
  },
  {
   "cell_type": "markdown",
   "metadata": {},
   "source": [
    "### What we need:\n",
    "- date of diagnosis\n",
    "- date of death\n",
    "- survival\n",
    "- plot"
   ]
  },
  {
   "cell_type": "code",
   "execution_count": null,
   "metadata": {},
   "outputs": [],
   "source": [
    "import sys\n",
    "from pathlib import Path\n",
    "\n",
    "# Get the absolute path to the other repo\n",
    "parent_folder = Path.cwd().parent.parent.parent\n",
    "repo2_path = parent_folder / \"survival_python\" / \"src\"\n",
    "\n",
    "# # Add the other repo to Python's path\n",
    "sys.path.append(str(repo2_path))"
   ]
  },
  {
   "cell_type": "code",
   "execution_count": null,
   "metadata": {},
   "outputs": [],
   "source": [
    "%run /home/sagemaker-user/survival_python/src/gelpack/survival.py"
   ]
  },
  {
   "cell_type": "code",
   "execution_count": null,
   "metadata": {},
   "outputs": [],
   "source": [
    "ca = ca.merge(data[['participant_id','tumour_sample_platekey']], how='inner', on =['participant_id','tumour_sample_platekey'])"
   ]
  },
  {
   "cell_type": "code",
   "execution_count": null,
   "metadata": {},
   "outputs": [],
   "source": [
    "ca"
   ]
  },
  {
   "cell_type": "code",
   "execution_count": null,
   "metadata": {},
   "outputs": [],
   "source": [
    "c = Survdat(\n",
    "\t\tca,\n",
    "\t\tca['participant_id'], \n",
    "\t\t'1', \n",
    "\t\t'False')"
   ]
  },
  {
   "cell_type": "code",
   "execution_count": null,
   "metadata": {},
   "outputs": [],
   "source": [
    "Survdat"
   ]
  },
  {
   "cell_type": "code",
   "execution_count": null,
   "metadata": {},
   "outputs": [],
   "source": [
    "c.quer_ons()"
   ]
  },
  {
   "cell_type": "code",
   "execution_count": null,
   "metadata": {},
   "outputs": [],
   "source": [
    "c.quer_hes(sample=False)"
   ]
  },
  {
   "cell_type": "code",
   "execution_count": null,
   "metadata": {},
   "outputs": [],
   "source": [
    "c.quer_dod()"
   ]
  },
  {
   "cell_type": "code",
   "execution_count": null,
   "metadata": {},
   "outputs": [],
   "source": [
    "c.get_earliest_cancer_diagnosis()"
   ]
  },
  {
   "cell_type": "code",
   "execution_count": null,
   "metadata": {},
   "outputs": [],
   "source": [
    "c.get_sample_diagnosis_date()"
   ]
  },
  {
   "cell_type": "code",
   "execution_count": null,
   "metadata": {},
   "outputs": [],
   "source": [
    "c.surv_time()"
   ]
  },
  {
   "cell_type": "code",
   "execution_count": null,
   "metadata": {},
   "outputs": [],
   "source": [
    "c.surv_dat"
   ]
  },
  {
   "cell_type": "code",
   "execution_count": null,
   "metadata": {},
   "outputs": [],
   "source": [
    "c.surv_dat.participant_id.nunique()"
   ]
  },
  {
   "cell_type": "code",
   "execution_count": null,
   "metadata": {},
   "outputs": [],
   "source": [
    "surv_dat = c.surv_dat.merge(data, on=['participant_id'], how='left', suffixes=('', '_manual'))"
   ]
  },
  {
   "cell_type": "code",
   "execution_count": null,
   "metadata": {},
   "outputs": [],
   "source": [
    "surv_dat"
   ]
  },
  {
   "cell_type": "code",
   "execution_count": null,
   "metadata": {},
   "outputs": [],
   "source": [
    "surv_dat.respond.value_counts()"
   ]
  },
  {
   "cell_type": "code",
   "execution_count": null,
   "metadata": {},
   "outputs": [],
   "source": [
    "grouped_dat = assign_groups(\n",
    "                dataframe=surv_dat, \n",
    "                vars=['respond'], \n",
    "                type='and'\n",
    "                )\n",
    "# map_dict = {'group_1':'Mut','group_2':'WT'}\n",
    "map_dict = {'group_1':'Responds','group_2':'No Response'}"
   ]
  },
  {
   "cell_type": "code",
   "execution_count": null,
   "metadata": {},
   "outputs": [],
   "source": [
    "dat = km_survival(\n",
    "\t\tdata=grouped_dat,\n",
    "\t\tstrata=map_dict.values(),\n",
    "\t\tmap_dict=map_dict,\n",
    "\t\toutput='output',\n",
    "\t\tplt_title='Survival Curves for patients treated with PARPi',\n",
    "\t\tplotting='show'\n",
    "\t\t)"
   ]
  },
  {
   "cell_type": "code",
   "execution_count": null,
   "metadata": {},
   "outputs": [],
   "source": []
  }
 ],
 "metadata": {
  "language_info": {
   "name": "python"
  }
 },
 "nbformat": 4,
 "nbformat_minor": 2
}
